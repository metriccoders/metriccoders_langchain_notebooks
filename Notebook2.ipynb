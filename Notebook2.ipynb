{
 "cells": [
  {
   "cell_type": "code",
   "execution_count": 2,
   "metadata": {},
   "outputs": [],
   "source": [
    "from langchain_core.prompts import ChatPromptTemplate"
   ]
  },
  {
   "cell_type": "code",
   "execution_count": 6,
   "metadata": {},
   "outputs": [],
   "source": [
    "from langchain_community.llms import Ollama"
   ]
  },
  {
   "cell_type": "code",
   "execution_count": 7,
   "metadata": {},
   "outputs": [],
   "source": [
    "llm = Ollama(model=\"llama2\")"
   ]
  },
  {
   "cell_type": "code",
   "execution_count": 9,
   "metadata": {},
   "outputs": [],
   "source": [
    "prompt = ChatPromptTemplate.from_template(\"Tell me postive things for {input}\")\n",
    "chain = prompt | llm"
   ]
  },
  {
   "cell_type": "code",
   "execution_count": 10,
   "metadata": {},
   "outputs": [
    {
     "data": {
      "text/plain": [
       "\"\\nOf course! Here are some positive things to start your day off right:\\n\\n1. The sun is shining brightly, bringing new life and energy to the world.\\n2. You woke up feeling refreshed and rested after a good night's sleep.\\n3. You have a delicious breakfast waiting for you, ready to fuel your body for the day ahead.\\n4. Today is a new day, full of opportunities and possibilities.\\n5. You have a plan in place to tackle your tasks and responsibilities, and you're feeling motivated to make progress.\\n6. You have supportive friends and family who care about you and want to help you succeed.\\n7. You have the power to choose how you want to spend your time and energy today, and you get to decide what brings you joy and fulfillment.\\n8. The world is full of beauty and wonder, just waiting to be discovered and appreciated.\\n9. You are capable of learning and growing every day, and you're excited to see how far you can go.\\n10. Today is a gift, and you get to unwrap it and enjoy every moment.\\n\\nI hope these positive affirmations help brighten your day and give you the motivation and energy you need to tackle whatever challenges come your way!\""
      ]
     },
     "execution_count": 10,
     "metadata": {},
     "output_type": "execute_result"
    }
   ],
   "source": [
    "chain.invoke({\"input\": \"For today morning\"})"
   ]
  },
  {
   "cell_type": "code",
   "execution_count": 11,
   "metadata": {},
   "outputs": [],
   "source": [
    "from langchain_core.output_parsers import StrOutputParser"
   ]
  },
  {
   "cell_type": "code",
   "execution_count": 12,
   "metadata": {},
   "outputs": [],
   "source": [
    "output_parser = StrOutputParser()"
   ]
  },
  {
   "cell_type": "code",
   "execution_count": 13,
   "metadata": {},
   "outputs": [],
   "source": [
    "chain = prompt | llm | output_parser"
   ]
  },
  {
   "cell_type": "code",
   "execution_count": 14,
   "metadata": {},
   "outputs": [
    {
     "data": {
      "text/plain": [
       "\"\\nLangsmuir, the inventor of the Langsmuir-Hinshelwood model of chemical reactions, was a pioneer in the field of surface chemistry. His work laid the foundation for our understanding of catalysis, surface reaction kinetics, and the behavior of molecules at interfaces. Here are some positive aspects of Langsmith's contributions:\\n\\n1. Advances in Catalysis: Langsmith's model of chemical reactions has been instrumental in developing a deeper understanding of catalytic processes. By studying the adsorption and desorption of reactants on surfaces, he was able to explain the mechanisms behind many important catalytic reactions.\\n2. Surface Reaction Kinetics: Langsmith's work on surface reaction kinetics has provided valuable insights into the rates of chemical reactions at interfaces. His models have helped to elucidate the factors that influence the rate of reactions, such as temperature, pressure, and surface properties.\\n3. Molecular Behavior at Interfaces: Langsmith's research on molecular behavior at interfaces has revealed important information about the interactions between molecules and surfaces. This knowledge has applications in fields such as surface engineering, colloid science, and material science.\\n4. Educational Impact: Langsmith's contributions to the field of surface chemistry have had a lasting impact on education. His work has influenced the development of courses and curricula related to surface chemistry, catalysis, and materials science.\\n5. Interdisciplinary Collaborations: Langsmith's research has bridged the gap between different scientific disciplines, such as physics, chemistry, and engineering. His work has fostered interdisciplinary collaborations and led to innovative solutions in areas like catalysis, energy storage, and environmental remediation.\\n6. Advancing Surface Science: Langsmith's pioneering work has advanced our understanding of surface science and its applications. His research has opened up new avenues for exploration and discovery, inspiring the next generation of scientists to explore the complex world of surfaces and interfaces.\\n7. Real-World Applications: Langsmith's models and theories have real-world applications in areas like catalysis, energy storage, and environmental remediation. His work has contributed to the development of new technologies and products that are improving people's lives and helping to address global challenges.\\n8. Interdisciplinary Approach: Langsmith's research has demonstrated the importance of an interdisciplinary approach to scientific inquiry. By combining insights from physics, chemistry, and engineering, he was able to gain a deeper understanding of surface phenomena and develop innovative solutions to complex problems.\\n9. Inspiring Future Scientists: Langsmith's contributions have inspired a new generation of scientists to explore the fascinating world of surfaces and interfaces. His work has shown that the study of surfaces can lead to exciting discoveries and innovations, fostering a love for science and discovery among young people.\\n10. Legacy of Innovation: Langsmith's legacy continues to inspire new generations of scientists and engineers. His work has paved the way for ongoing research and development in areas like catalysis, energy storage, and environmental remediation, ensuring that his innovative spirit lives on.\""
      ]
     },
     "execution_count": 14,
     "metadata": {},
     "output_type": "execute_result"
    }
   ],
   "source": [
    "chain.invoke({\"input\": \"what is langsmith and how can it help?\"})"
   ]
  },
  {
   "cell_type": "code",
   "execution_count": 15,
   "metadata": {},
   "outputs": [],
   "source": [
    "from langchain_community.embeddings import OllamaEmbeddings"
   ]
  },
  {
   "cell_type": "code",
   "execution_count": 16,
   "metadata": {},
   "outputs": [],
   "source": [
    "embeddings = OllamaEmbeddings()"
   ]
  },
  {
   "cell_type": "code",
   "execution_count": 17,
   "metadata": {},
   "outputs": [],
   "source": [
    "from langchain_community.document_loaders import WebBaseLoader\n",
    "loader = WebBaseLoader(\"https://docs.smith.langchain.com/user_guide\")\n",
    "\n",
    "docs = loader.load()\n",
    "\n",
    "\n",
    "from langchain_community.vectorstores import FAISS\n",
    "from langchain_text_splitters import RecursiveCharacterTextSplitter\n",
    "\n",
    "text_splitter = RecursiveCharacterTextSplitter()\n",
    "documents = text_splitter.split_documents(docs)\n",
    "vector = FAISS.from_documents(documents, embeddings)"
   ]
  },
  {
   "cell_type": "code",
   "execution_count": 18,
   "metadata": {},
   "outputs": [],
   "source": [
    "from langchain.chains.combine_documents import create_stuff_documents_chain"
   ]
  },
  {
   "cell_type": "code",
   "execution_count": 20,
   "metadata": {},
   "outputs": [],
   "source": [
    "prompt = ChatPromptTemplate.from_template(\"\"\"\n",
    "Answer the following question based only on the provided context:\n",
    "                                          <context>\n",
    "                                          {context}\n",
    "                                          </context>\n",
    "\n",
    "                                          Question: {input}\n",
    "\n",
    "\n",
    "\"\"\")"
   ]
  },
  {
   "cell_type": "code",
   "execution_count": 21,
   "metadata": {},
   "outputs": [],
   "source": [
    "document_chain = create_stuff_documents_chain(llm, prompt)"
   ]
  },
  {
   "cell_type": "code",
   "execution_count": 22,
   "metadata": {},
   "outputs": [
    {
     "data": {
      "text/plain": [
       "'Of course! Based on the provided context, Sachin Tendulkar is a renowned Indian cricketer widely regarded as one of the greatest batsmen in the history of cricket.'"
      ]
     },
     "execution_count": 22,
     "metadata": {},
     "output_type": "execute_result"
    }
   ],
   "source": [
    "from langchain_core.documents import Document\n",
    "\n",
    "document_chain.invoke({\n",
    "    \"input\": \"Who is Sachin Tendulkar?\",\n",
    "    \"context\": [Document(page_content=\"Sachin Tendulkar is the greatest cricketer\")]\n",
    "})"
   ]
  },
  {
   "cell_type": "code",
   "execution_count": 24,
   "metadata": {},
   "outputs": [],
   "source": [
    "from langchain.chains import create_retrieval_chain\n",
    "\n",
    "retriever = vector.as_retriever()\n",
    "\n",
    "retrieval_chain = create_retrieval_chain(retriever, document_chain)"
   ]
  },
  {
   "cell_type": "code",
   "execution_count": 26,
   "metadata": {},
   "outputs": [
    {
     "name": "stdout",
     "output_type": "stream",
     "text": [
      " Based on the provided context, LangSmith can help with testing in several ways:\n",
      "\n",
      "1. Prototyping: LangSmith provides a platform for rapid iteration and experimentation, allowing developers to test out different prompts and models quickly.\n",
      "2. Debugging: When developing new LLM applications, LangSmith tracing is enabled by default, providing clear visibility and debugging information at each step of an LLM sequence. This helps identify and root-cause issues when things go wrong.\n",
      "3. Initial Test Set: LangSmith allows developers to create datasets, which are collections of inputs and reference outputs, and use these to run tests on their LLM applications. These test cases can be uploaded in bulk, created on the fly, or exported from application traces.\n",
      "4. Comparison View: When prototyping different versions of an application and making changes, LangSmith provides a user-friendly comparison view for test runs to track and diagnose regressions in test scores across multiple revisions of the application.\n",
      "5. Beta Testing: LangSmith enables developers to collect more data on how their LLM applications are performing in real-world scenarios. This phase involves developing an understanding of the types of inputs the app is performing well or poorly on and how exactly it’s breaking down in those cases.\n",
      "6. Annotating Traces: LangSmith also supports sending runs to annotation queues, allowing annotators to closely inspect interesting traces and annotate them with respect to different criteria. This helps catch regressions across important evaluation criteria.\n",
      "7. Adding Runs to a Dataset: As the application progresses through the beta testing phase, LangSmith enables users to add runs as examples to datasets, expanding test coverage on real-world scenarios.\n",
      "8. Production: Once the app hits production, LangSmith provides monitoring charts that allow users to track key metrics over time and drill down into specific data points for debugging purposes. Additionally, LangSmith allows for tag and metadata grouping, which enables A/B testing changes in prompt, model, or retrieval strategy.\n"
     ]
    }
   ],
   "source": [
    "response = retrieval_chain.invoke({\"input\": \"How can langsmith help with testing?\"})\n",
    "print(response[\"answer\"])"
   ]
  },
  {
   "cell_type": "code",
   "execution_count": null,
   "metadata": {},
   "outputs": [],
   "source": []
  }
 ],
 "metadata": {
  "kernelspec": {
   "display_name": "Python 3",
   "language": "python",
   "name": "python3"
  },
  "language_info": {
   "codemirror_mode": {
    "name": "ipython",
    "version": 3
   },
   "file_extension": ".py",
   "mimetype": "text/x-python",
   "name": "python",
   "nbconvert_exporter": "python",
   "pygments_lexer": "ipython3",
   "version": "3.11.7"
  }
 },
 "nbformat": 4,
 "nbformat_minor": 2
}
