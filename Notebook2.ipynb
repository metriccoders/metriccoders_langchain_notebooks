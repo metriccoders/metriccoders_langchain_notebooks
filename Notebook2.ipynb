{
 "cells": [
  {
   "cell_type": "code",
   "execution_count": 2,
   "metadata": {},
   "outputs": [],
   "source": [
    "from langchain_core.prompts import ChatPromptTemplate"
   ]
  },
  {
   "cell_type": "code",
   "execution_count": 6,
   "metadata": {},
   "outputs": [],
   "source": [
    "from langchain_community.llms import Ollama"
   ]
  },
  {
   "cell_type": "code",
   "execution_count": 7,
   "metadata": {},
   "outputs": [],
   "source": [
    "llm = Ollama(model=\"llama2\")"
   ]
  },
  {
   "cell_type": "code",
   "execution_count": 9,
   "metadata": {},
   "outputs": [],
   "source": [
    "prompt = ChatPromptTemplate.from_template(\"Tell me postive things for {input}\")\n",
    "chain = prompt | llm"
   ]
  },
  {
   "cell_type": "code",
   "execution_count": 10,
   "metadata": {},
   "outputs": [
    {
     "data": {
      "text/plain": [
       "\"\\nOf course! Here are some positive things to start your day off right:\\n\\n1. The sun is shining brightly, bringing new life and energy to the world.\\n2. You woke up feeling refreshed and rested after a good night's sleep.\\n3. You have a delicious breakfast waiting for you, ready to fuel your body for the day ahead.\\n4. Today is a new day, full of opportunities and possibilities.\\n5. You have a plan in place to tackle your tasks and responsibilities, and you're feeling motivated to make progress.\\n6. You have supportive friends and family who care about you and want to help you succeed.\\n7. You have the power to choose how you want to spend your time and energy today, and you get to decide what brings you joy and fulfillment.\\n8. The world is full of beauty and wonder, just waiting to be discovered and appreciated.\\n9. You are capable of learning and growing every day, and you're excited to see how far you can go.\\n10. Today is a gift, and you get to unwrap it and enjoy every moment.\\n\\nI hope these positive affirmations help brighten your day and give you the motivation and energy you need to tackle whatever challenges come your way!\""
      ]
     },
     "execution_count": 10,
     "metadata": {},
     "output_type": "execute_result"
    }
   ],
   "source": [
    "chain.invoke({\"input\": \"For today morning\"})"
   ]
  },
  {
   "cell_type": "code",
   "execution_count": null,
   "metadata": {},
   "outputs": [],
   "source": []
  }
 ],
 "metadata": {
  "kernelspec": {
   "display_name": "Python 3",
   "language": "python",
   "name": "python3"
  },
  "language_info": {
   "codemirror_mode": {
    "name": "ipython",
    "version": 3
   },
   "file_extension": ".py",
   "mimetype": "text/x-python",
   "name": "python",
   "nbconvert_exporter": "python",
   "pygments_lexer": "ipython3",
   "version": "3.11.7"
  }
 },
 "nbformat": 4,
 "nbformat_minor": 2
}
