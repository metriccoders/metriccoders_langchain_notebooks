{
 "cells": [
  {
   "cell_type": "code",
   "execution_count": 1,
   "metadata": {},
   "outputs": [],
   "source": [
    "##Retrieval Augmented Generation"
   ]
  },
  {
   "cell_type": "code",
   "execution_count": 2,
   "metadata": {},
   "outputs": [],
   "source": [
    "from operator import itemgetter"
   ]
  },
  {
   "cell_type": "code",
   "execution_count": 14,
   "metadata": {},
   "outputs": [],
   "source": [
    "from langchain_community.vectorstores import FAISS\n",
    "from langchain_core.output_parsers import StrOutputParser\n",
    "from langchain_core.prompts import ChatPromptTemplate\n",
    "from langchain_core.runnables import RunnableLambda, RunnablePassthrough\n",
    "from langchain_community.llms import Ollama\n",
    "from langchain_community.embeddings import OllamaEmbeddings"
   ]
  },
  {
   "cell_type": "code",
   "execution_count": 15,
   "metadata": {},
   "outputs": [],
   "source": [
    "vectorstore = FAISS.from_texts(\n",
    "    [\"Harry Potter was a wizard\"], OllamaEmbeddings()\n",
    ")"
   ]
  },
  {
   "cell_type": "code",
   "execution_count": 16,
   "metadata": {},
   "outputs": [],
   "source": [
    "retriever = vectorstore.as_retriever()"
   ]
  },
  {
   "cell_type": "code",
   "execution_count": 17,
   "metadata": {},
   "outputs": [],
   "source": [
    "template = \"\"\"Answer the question based only on the following context:\n",
    "{context}\n",
    "\n",
    "Question: {question}\n",
    "\n",
    "\"\"\""
   ]
  },
  {
   "cell_type": "code",
   "execution_count": 18,
   "metadata": {},
   "outputs": [],
   "source": [
    "prompt = ChatPromptTemplate.from_template(template)\n"
   ]
  },
  {
   "cell_type": "code",
   "execution_count": 19,
   "metadata": {},
   "outputs": [],
   "source": [
    "model = Ollama(model=\"llama2\")"
   ]
  },
  {
   "cell_type": "code",
   "execution_count": 27,
   "metadata": {},
   "outputs": [],
   "source": [
    "prompt = ChatPromptTemplate.from_template(\"Tell me postive things for {input}\")\n",
    "chain = prompt | model"
   ]
  },
  {
   "cell_type": "code",
   "execution_count": 28,
   "metadata": {},
   "outputs": [
    {
     "data": {
      "text/plain": [
       "\"Of course, here are some positive things about Harry Potter:\\n\\n1. Magic and Adventure: Harry Potter offers a unique blend of magic and adventure that captivates readers of all ages. The world of magic is full of wonder and excitement, with endless possibilities for exploration and discovery.\\n2. Empowering Heroism: Harry Potter is not just a passive protagonist; he is an empowered hero who takes action to save the wizarding world from evil forces. His bravery and determination inspire readers to stand up against injustice and fight for what is right.\\n3. Friendship and Loyalty: The close friendships between Harry, Ron, and Hermione are a central theme throughout the series. Their unwavering loyalty and support for one another demonstrate the importance of strong relationships in overcoming challenges.\\n4. Self-Discovery and Personal Growth: Throughout the series, Harry learns more about himself, his parents, and his destiny. His journey of self-discovery and personal growth serves as a reminder that we are all capable of change and growth throughout our lives.\\n5. Multiculturalism and Inclusivity: J.K. Rowling's wizarding world is diverse and inclusive, with characters from various cultures, ethnicities, and backgrounds. This reflection of the real world promotes empathy and understanding, highlighting the importance of diversity in society.\\n6. Moral Ambiguity: The series does not shy away from exploring complex moral themes, such as the nature of evil, the consequences of power, and the ethics of magic use. These nuanced discussions encourage readers to think critically about their own beliefs and values.\\n7. Social Commentary: Rowling's writing often contains subtle social commentaries on issues like prejudice, discrimination, and inequality. The series serves as a thought-provoking critique of society, encouraging readers to challenge the status quo and advocate for positive change.\\n8. Nostalgia and Escapism: For many fans, Harry Potter provides a sense of nostalgia and escapism, transporting them to a magical world that offers a respite from the stresses of everyday life. The series' imaginative universe provides an immersive experience that is both enjoyable and therapeutic.\\n9. Educational Value: Beyond its entertainment value, Harry Potter has educational merit, as it incorporates elements of language, history, and cultural studies. Readers can learn about etymology, mythology, and the historical context of magic and wizarding culture.\\n10. Cultural Phenomenon: The Harry Potter series has become a global phenomenon, with a vast and dedicated fan base. Its influence extends beyond literature, inspiring films, theme parks, and other forms of media. The series' enduring popularity is a testament to its timeless appeal and the power of storytelling.\""
      ]
     },
     "execution_count": 28,
     "metadata": {},
     "output_type": "execute_result"
    }
   ],
   "source": [
    "chain.invoke({\"input\": \"harry potter\"})"
   ]
  },
  {
   "cell_type": "code",
   "execution_count": null,
   "metadata": {},
   "outputs": [],
   "source": []
  }
 ],
 "metadata": {
  "kernelspec": {
   "display_name": "Python 3",
   "language": "python",
   "name": "python3"
  },
  "language_info": {
   "codemirror_mode": {
    "name": "ipython",
    "version": 3
   },
   "file_extension": ".py",
   "mimetype": "text/x-python",
   "name": "python",
   "nbconvert_exporter": "python",
   "pygments_lexer": "ipython3",
   "version": "3.11.7"
  }
 },
 "nbformat": 4,
 "nbformat_minor": 2
}
