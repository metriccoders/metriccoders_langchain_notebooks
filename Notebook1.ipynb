{
 "cells": [
  {
   "cell_type": "code",
   "execution_count": 1,
   "metadata": {},
   "outputs": [],
   "source": [
    "from langchain_community.llms import Ollama"
   ]
  },
  {
   "cell_type": "code",
   "execution_count": 2,
   "metadata": {},
   "outputs": [],
   "source": [
    "llm = Ollama(model=\"llama2\")"
   ]
  },
  {
   "cell_type": "code",
   "execution_count": 3,
   "metadata": {},
   "outputs": [
    {
     "data": {
      "text/plain": [
       "'\\nSDLC stands for Software Development Life Cycle. It is a process used in software development to manage the development, testing, and deployment of software systems. The SDLC typically includes several stages:\\n\\n1. Requirements gathering and analysis: In this stage, the requirements of the software system are gathered and analyzed to determine the scope of the project.\\n2. Design: In this stage, the design of the software system is created, including the architecture, user interface, and functionality.\\n3. Implementation: In this stage, the software code is written and implemented using various programming languages, tools, and technologies.\\n4. Testing: In this stage, the software system is tested to identify any bugs or errors and to ensure that it meets the requirements of the project.\\n5. Deployment: In this stage, the software system is deployed to the production environment, where it can be used by end-users.\\n6. Maintenance: In this stage, the software system is maintained and updated to fix any bugs or issues that arise, and to add new features as needed.\\n\\nThe SDLC process can vary depending on the project requirements, team size, and development methodology. Some common variations of the SDLC include:\\n\\n1. Agile SDLC: This approach emphasizes collaboration, flexibility, and rapid iteration, with a focus on delivering working software in short iterations.\\n2. Waterfall SDLC: This approach follows a linear sequence of stages, with each stage dependent on the previous one. Changes made in later stages can impact the entire project.\\n3. V-Model SDLC: This approach uses a visual model to represent the software development process, with stages organized around the software development life cycle.\\n4. RUP SDLC: This approach (RUP - Rapid Application Development) emphasizes flexibility and rapid iteration, with a focus on delivering working software in short iterations.\\n5. Spiral SDLC: This approach combines elements of waterfall and agile methodologies, with a focus on iterative development and risk management.\\n6. Data-Driven SDLC: This approach emphasizes the use of data to drive decision-making throughout the software development process.\\n7. Lean SDLC: This approach emphasizes eliminating waste and maximizing value, with a focus on continuous improvement and delivery of working software.\\n\\nEach SDLC model has its strengths and weaknesses, and the choice of which one to use depends on the specific project requirements and goals.'"
      ]
     },
     "execution_count": 3,
     "metadata": {},
     "output_type": "execute_result"
    }
   ],
   "source": [
    "llm.invoke(\"What is SDLC\")"
   ]
  },
  {
   "cell_type": "code",
   "execution_count": 4,
   "metadata": {},
   "outputs": [],
   "source": [
    "from langchain_core.prompts import ChatPromptTemplate"
   ]
  },
  {
   "cell_type": "code",
   "execution_count": 5,
   "metadata": {},
   "outputs": [],
   "source": [
    "prompt = ChatPromptTemplate.from_messages([\n",
    "    (\"system\", \"You are mckinset consultant\"),\n",
    "    (\"user\", \"{input}\")\n",
    "])"
   ]
  },
  {
   "cell_type": "code",
   "execution_count": 6,
   "metadata": {},
   "outputs": [],
   "source": [
    "chain = prompt | llm"
   ]
  },
  {
   "cell_type": "code",
   "execution_count": 7,
   "metadata": {},
   "outputs": [
    {
     "data": {
      "text/plain": [
       "'\\nSubject: Sustainability Report Writing with Generative Artificial Intelligence (Gen AI) for an Energy Company\\n\\nDear [Client],\\n\\nWe are pleased to present this report on the potential application of Generative Artificial Intelligence (Gen AI) in sustainability report writing for an energy company. As a McKinsey consultant, we have analyzed the current state of sustainability reporting practices within the industry and identified opportunities for improvement through the integration of Gen AI technologies.\\n\\nBackground:\\nSustainability reporting is critical for energy companies to communicate their environmental, social, and governance (ESG) performance to stakeholders. Traditionally, report writing involves a significant amount of manual data collection and analysis, which can be time-consuming and costly. With the increasing availability of large datasets and advancements in AI technologies, there is an opportunity to leverage Gen AI to improve the efficiency and accuracy of sustainability reporting processes.\\n\\nMethodology:\\nOur research involved a comprehensive review of existing literature on sustainability reporting and Gen AI applications. We also conducted interviews with industry experts and analyzed data from several energy companies to identify areas where Gen AI could be applied. Our methodology included the following steps:\\n\\n1. Literature Review: We conducted a systematic search of academic databases, industry reports, and online resources to identify existing research on sustainability reporting and Gen AI applications.\\n2. Industry Expert Interviews: We interviewed experts from various energy companies to gain insights into their current sustainability reporting practices and identify areas where Gen AI could be applied.\\n3. Data Analysis: We analyzed data from several energy companies to identify patterns and trends in their sustainability reporting processes and determine potential areas for improvement through the use of Gen AI.\\n\\nFindings:\\nOur research revealed several areas where Gen AI could improve sustainability reporting processes within the energy industry, including:\\n\\n1. Automated Data Collection: Gen AI can automate data collection from various sources, such as supply chain partners, subsidiaries, and external databases, reducing the manual effort required for data compilation.\\n2. Predictive Analytics: Gen AI can analyze large datasets to identify trends and patterns in sustainability performance, enabling more accurate forecasting of future ESG metrics.\\n3. Natural Language Processing: Gen AI can assist with writing sustainability reports by automatically generating text based on predetermined templates or styles, reducing the time and effort required for report writing.\\n4. Stakeholder Engagement: Gen AI can facilitate stakeholder engagement through personalized communication channels, such as chatbots or virtual assistants, enabling more effective management of ESG-related inquiries from stakeholders.\\n\\nRecommendations:\\nBased on our findings, we recommend the following actions for energy companies looking to leverage Gen AI in sustainability reporting:\\n\\n1. Automate Data Collection: Implement automated data collection systems to streamline the process of gathering ESG performance data from various sources.\\n2. Utilize Predictive Analytics: Use predictive analytics tools to analyze large datasets and identify trends and patterns in sustainability performance, enabling more accurate forecasting of future ESG metrics.\\n3. Implement Natural Language Processing: Develop natural language processing capabilities to assist with writing sustainability reports by automatically generating text based on predetermined templates or styles.\\n4. Foster Stakeholder Engagement: Utilize Gen AI-powered communication channels, such as chatbots or virtual assistants, to facilitate more effective management of ESG-related inquiries from stakeholders.\\n\\nConclusion:\\nThe integration of Gen AI technologies has the potential to significantly improve sustainability reporting processes within the energy industry. By automating data collection, utilizing predictive analytics, and fostering stakeholder engagement through personalized communication channels, energy companies can increase the efficiency, accuracy, and impact of their sustainability reports. As Gen AI continues to evolve, we expect to see even more innovative applications in the field of sustainability reporting.\\n\\nThank you for considering our findings and recommendations. We look forward to the opportunity to further discuss this topic with your team.\\n\\nBest regards,\\n[Your Name]'"
      ]
     },
     "execution_count": 7,
     "metadata": {},
     "output_type": "execute_result"
    }
   ],
   "source": [
    "chain.invoke({\"input\": \"Write a brief report on using Gen AI in sustainability report writing for a energy company\"})"
   ]
  },
  {
   "cell_type": "code",
   "execution_count": 8,
   "metadata": {},
   "outputs": [],
   "source": [
    "from langchain_core.output_parsers import StrOutputParser"
   ]
  },
  {
   "cell_type": "code",
   "execution_count": 9,
   "metadata": {},
   "outputs": [],
   "source": [
    "output_parser = StrOutputParser()"
   ]
  },
  {
   "cell_type": "code",
   "execution_count": 10,
   "metadata": {},
   "outputs": [],
   "source": [
    "chain = prompt | llm | output_parser"
   ]
  },
  {
   "cell_type": "code",
   "execution_count": 11,
   "metadata": {},
   "outputs": [
    {
     "data": {
      "text/plain": [
       "\"\\nSubject: Utilizing Generative AI for Sustainability Report Writing in the Energy Industry\\n\\nDear [Client],\\n\\nAs a McKinsey consultant, I am pleased to provide this report on the potential use of Generative AI (GAI) in sustainability report writing for an energy company. Our analysis suggests that GAI can significantly enhance the efficiency and accuracy of sustainability reporting, while also improving the overall quality of reports.\\n\\nBackground:\\nSustainability reporting is a crucial aspect of corporate social responsibility, as it allows companies to disclose their environmental, social, and governance (ESG) performance to stakeholders. The Energy Industry, in particular, faces significant challenges when it comes to sustainability reporting due to the inherent environmental impacts of energy production and consumption.\\n\\nMethodology:\\nTo assess the potential benefits of GAI for sustainability report writing in the energy industry, we conducted a comprehensive review of existing literature on the topic, as well as interviews with industry experts and companies that have already implemented GAI solutions. Our analysis focused on the following key areas:\\n\\n1. Data collection and management: GAI can automate the collection and integration of data from various sources, such as environmental impact assessments, carbon footprint analyses, and social responsibility reports. This can help reduce errors, improve accuracy, and streamline the reporting process.\\n2. Analysis and insights: GAI can perform advanced analytics on the collected data, providing valuable insights into the company's sustainability performance. For example, GAI can identify areas of high water consumption or carbon emissions, and provide recommendations for improvement.\\n3. Reporting template customization: GAI can adapt to different reporting templates and frameworks, such as the Global Reporting Initiative (GRI) or the Sustainability Accounting Standards Board (SASB). This ensures that reports are consistent with industry standards, making it easier for stakeholders to compare and evaluate sustainability performance across companies.\\n4. Stakeholder engagement: GAI can assist in engaging stakeholders through interactive reporting tools, such as virtual reality experiences or gamification elements. This can help increase transparency and encourage more active participation from stakeholders in the sustainability reporting process.\\n\\nKey Findings:\\n\\n1. Improved data accuracy and completeness: GAI can automate data collection and integration, reducing errors and ensuring that all required data is collected and reported.\\n2. Enhanced analysis and insights: GAI can perform advanced analytics on the collected data, providing valuable insights into sustainability performance and areas for improvement.\\n3. Streamlined reporting process: GAI can adapt to different reporting templates and frameworks, making it easier for companies to produce high-quality sustainability reports.\\n4. Increased stakeholder engagement: GAI can assist in engaging stakeholders through interactive reporting tools, increasing transparency and encouraging more active participation from stakeholders.\\n\\nRecommendations:\\nBased on our analysis, we recommend energy companies consider implementing GAI solutions for sustainability report writing. This could involve investing in GAI software or partnering with external providers to automate data collection and analysis. By leveraging GAI, energy companies can improve the efficiency, accuracy, and quality of their sustainability reporting, while also enhancing stakeholder engagement.\\n\\nConclusion:\\nIn conclusion, GAI has the potential to significantly enhance sustainability reporting in the energy industry. By automating data collection and analysis, providing valuable insights, and streamlining the reporting process, GAI can help companies improve their ESG performance and better communicate with stakeholders. We recommend that energy companies consider implementing GAI solutions for sustainability report writing to stay competitive and meet the growing expectations of stakeholders.\""
      ]
     },
     "execution_count": 11,
     "metadata": {},
     "output_type": "execute_result"
    }
   ],
   "source": [
    "chain.invoke({\"input\": \"Write a brief report on using Gen AI in sustainability report writing for a energy company\"})"
   ]
  },
  {
   "cell_type": "code",
   "execution_count": 12,
   "metadata": {},
   "outputs": [],
   "source": [
    "from langchain_community.document_loaders import WebBaseLoader"
   ]
  },
  {
   "cell_type": "code",
   "execution_count": 13,
   "metadata": {},
   "outputs": [],
   "source": [
    "loader = WebBaseLoader(\"https://docs.smith.langchain.com/user_guide\")"
   ]
  },
  {
   "cell_type": "code",
   "execution_count": 14,
   "metadata": {},
   "outputs": [],
   "source": [
    "docs = loader.load()"
   ]
  },
  {
   "cell_type": "code",
   "execution_count": 15,
   "metadata": {},
   "outputs": [],
   "source": [
    "from langchain_community.embeddings import OllamaEmbeddings"
   ]
  },
  {
   "cell_type": "code",
   "execution_count": 16,
   "metadata": {},
   "outputs": [],
   "source": [
    "embeddings = OllamaEmbeddings()"
   ]
  },
  {
   "cell_type": "code",
   "execution_count": 17,
   "metadata": {},
   "outputs": [],
   "source": [
    "from langchain_community.vectorstores import FAISS"
   ]
  },
  {
   "cell_type": "code",
   "execution_count": 18,
   "metadata": {},
   "outputs": [],
   "source": [
    "from langchain_text_splitters import RecursiveCharacterTextSplitter"
   ]
  },
  {
   "cell_type": "code",
   "execution_count": 19,
   "metadata": {},
   "outputs": [],
   "source": [
    "text_splitter = RecursiveCharacterTextSplitter()"
   ]
  },
  {
   "cell_type": "code",
   "execution_count": 20,
   "metadata": {},
   "outputs": [],
   "source": [
    "documents = text_splitter.split_documents(docs)"
   ]
  },
  {
   "cell_type": "code",
   "execution_count": 21,
   "metadata": {},
   "outputs": [],
   "source": [
    "vector = FAISS.from_documents(documents=documents, embedding=embeddings)"
   ]
  },
  {
   "cell_type": "code",
   "execution_count": 22,
   "metadata": {},
   "outputs": [],
   "source": [
    "from langchain.chains.combine_documents import create_stuff_documents_chain"
   ]
  },
  {
   "cell_type": "code",
   "execution_count": 23,
   "metadata": {},
   "outputs": [],
   "source": [
    "prompt = ChatPromptTemplate.from_template(\"\"\"\n",
    "Answer the following question based only on the provided context:\n",
    "\n",
    "<context>\n",
    "{context}\n",
    "</context>\n",
    "\n",
    "Question: {input}\n",
    "\n",
    "\"\"\")"
   ]
  },
  {
   "cell_type": "code",
   "execution_count": 24,
   "metadata": {},
   "outputs": [],
   "source": [
    "document_chain = create_stuff_documents_chain(llm=llm, prompt=prompt)"
   ]
  },
  {
   "cell_type": "code",
   "execution_count": 25,
   "metadata": {},
   "outputs": [],
   "source": [
    "from langchain_core.documents import Document"
   ]
  },
  {
   "cell_type": "code",
   "execution_count": 26,
   "metadata": {},
   "outputs": [
    {
     "data": {
      "text/plain": [
       "'Based on the provided context, langsmith can help with testing by allowing users to visualize test results.'"
      ]
     },
     "execution_count": 26,
     "metadata": {},
     "output_type": "execute_result"
    }
   ],
   "source": [
    "document_chain.invoke({\n",
    "    \"input\": \"How can langsmith help with testing\",\n",
    "    \"context\": [Document(page_content=\"langsmith can let you visulise test results\")]\n",
    "})"
   ]
  },
  {
   "cell_type": "code",
   "execution_count": null,
   "metadata": {},
   "outputs": [],
   "source": []
  }
 ],
 "metadata": {
  "kernelspec": {
   "display_name": "Python 3",
   "language": "python",
   "name": "python3"
  },
  "language_info": {
   "codemirror_mode": {
    "name": "ipython",
    "version": 3
   },
   "file_extension": ".py",
   "mimetype": "text/x-python",
   "name": "python",
   "nbconvert_exporter": "python",
   "pygments_lexer": "ipython3",
   "version": "3.11.7"
  }
 },
 "nbformat": 4,
 "nbformat_minor": 2
}
